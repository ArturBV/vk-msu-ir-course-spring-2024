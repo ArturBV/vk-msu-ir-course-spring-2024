{
 "cells": [
  {
   "cell_type": "markdown",
   "id": "c68b6411-668d-431f-9556-9a478597aa6c",
   "metadata": {},
   "source": [
    "# Расчет метрики DCG@K\n",
    "\n",
    "Входные данные:\n",
    "- некий запрос **Q** (сейчас не важно какой именно)\n",
    "- коллекция из N текстовых документов **D_i**, i = 1, ..., N (N может быть большим)\n",
    "- для каждого документа известна его оценка релевантности **rel_i** относительно запроса **q**\n",
    "\n",
    "Будем обозначать документы строками вида \"d1\", \"d2\", ... (на практике обычно употребляются численные docID, но мы тут упростим себе жизнь).\n",
    "\n",
    "Предположим, что релевантность оценивается по 3-х балльной шкале:\n",
    "- 1 - не-релевантный документ\n",
    "- 2 - полезный документ\n",
    "- 3 - полностью релевантный документ"
   ]
  },
  {
   "cell_type": "markdown",
   "id": "0f0a7027-7d31-480c-9e05-44b6ca966f68",
   "metadata": {},
   "source": [
    "Импортируем модули которые нам понадобятся впоследствии:"
   ]
  },
  {
   "cell_type": "code",
   "execution_count": 67,
   "id": "21fb783d-937e-40a6-88b5-3df49b614a80",
   "metadata": {},
   "outputs": [],
   "source": [
    "import math\n",
    "from catboost import utils"
   ]
  },
  {
   "cell_type": "markdown",
   "id": "61bd5f69-0f93-4a21-8aa6-62744c5e6476",
   "metadata": {},
   "source": [
    "Предположим, что поисковая система в ответ на запрос **Q** выдала 5 документов в следующем порядке:<br>\n",
    "1. d4\n",
    "2. d2\n",
    "3. d1\n",
    "4. d5\n",
    "5. d3\n",
    "\n",
    "Будем хранить поисковую выдачу в списке **search_results**:"
   ]
  },
  {
   "cell_type": "code",
   "execution_count": 68,
   "id": "d84b812b-f9bd-41dd-96dc-3007b4efe5e1",
   "metadata": {},
   "outputs": [],
   "source": [
    "search_results = [\"d4\", \"d2\", \"d1\", \"d5\", \"d3\"]"
   ]
  },
  {
   "cell_type": "markdown",
   "id": "2d8eed21-bb25-436c-88f3-4c8008c553fc",
   "metadata": {},
   "source": [
    "Предположим, что нам известны оценки релевантности этих документов.<br>\n",
    "Будем хранить их словаре **doc2rel**:"
   ]
  },
  {
   "cell_type": "code",
   "execution_count": 69,
   "id": "caf22b01-c63a-4bc4-936f-837471d14d53",
   "metadata": {},
   "outputs": [],
   "source": [
    "doc2rel = {\"d1\": 2, \"d2\": 2, \"d3\": 2, \"d4\": 3, \"d5\": 1}"
   ]
  },
  {
   "cell_type": "markdown",
   "id": "a2d8801e-39dd-4844-9240-9a71c3625e83",
   "metadata": {},
   "source": [
    "## Считаем DCG@K самостоятельно"
   ]
  },
  {
   "cell_type": "markdown",
   "id": "63ef0386-af81-4cd3-821f-b2a28d839171",
   "metadata": {},
   "source": [
    "Вспомним формулу DCG:<br>\n",
    "<br>\n",
    "DCG@K = SUM(2^rel_i - 1 / log(1+i)), где<br>\n",
    "<br>\n",
    "i - позиция, на которой находится документ в поисковой выдаче (номера позиций начинаются с 1 и заканчиваются K)<br>\n",
    "rel_i - оценка релевантности документа на i-й позиции\n",
    "\n",
    "\n",
    "Чтобы рассчитать DCG, нам будет удобно преобразовать список позиция -> документ в список позиция -> оценка:"
   ]
  },
  {
   "cell_type": "code",
   "execution_count": 70,
   "id": "70f8c76e-e7f9-43f3-9c0d-d9076d242a12",
   "metadata": {},
   "outputs": [],
   "source": [
    "def convert_results(search_results, doc2rel):\n",
    "    rels = []\n",
    "    for doc in search_results:\n",
    "        rel_i = doc2rel[doc]\n",
    "        rels.append(rel_i)\n",
    "    return rels"
   ]
  },
  {
   "cell_type": "code",
   "execution_count": 71,
   "id": "67fb4cd6-6a57-4f33-81c5-74bf492aef01",
   "metadata": {},
   "outputs": [
    {
     "name": "stdout",
     "output_type": "stream",
     "text": [
      "[3, 2, 2, 1, 2]\n"
     ]
    }
   ],
   "source": [
    "y = convert_results(search_results, doc2rel)\n",
    "print(y)"
   ]
  },
  {
   "cell_type": "markdown",
   "id": "1ab54e72-f327-4808-b41c-fa05514bf3ae",
   "metadata": {},
   "source": [
    "Реализуем функцию dcg(y,k) которая считает DCG@K:"
   ]
  },
  {
   "cell_type": "code",
   "execution_count": 72,
   "id": "6002a6b2-a141-43b5-87cd-87138ef0b1c4",
   "metadata": {},
   "outputs": [],
   "source": [
    "def dcg(y, k=10):\n",
    "    \"\"\"Computes DCG@k for a single query.\n",
    "\n",
    "    y is a list of relevance grades sorted by position.\n",
    "    len(y) could be <= k.\n",
    "    \"\"\"\n",
    "    \n",
    "    r = 0.\n",
    "    for i, y_i in enumerate(y):\n",
    "        p = i + 1 # position starts from 1\n",
    "        r += (2 ** y_i - 1) / math.log(1 + p, 2)\n",
    "        if p == k:\n",
    "            break\n",
    "    return r"
   ]
  },
  {
   "cell_type": "markdown",
   "id": "3701a8ce-798a-4eb5-88fa-aa5495066240",
   "metadata": {},
   "source": [
    "Применим к нашей выдаче:"
   ]
  },
  {
   "cell_type": "code",
   "execution_count": 73,
   "id": "7e57ed38-282a-4e35-95fe-13e53f5f0b90",
   "metadata": {},
   "outputs": [
    {
     "name": "stdout",
     "output_type": "stream",
     "text": [
      "11.98402424049139\n"
     ]
    }
   ],
   "source": [
    "print(dcg(y,k=5))"
   ]
  },
  {
   "cell_type": "markdown",
   "id": "fae6d4dc-90c1-4d87-bf1d-65d31dd1824e",
   "metadata": {},
   "source": [
    "Обратим внимание, что при k=10 значение DCG@10 будет совпадать со значением DCG@5 т.к. останавливаем расчет на 5й позиции (или, что аналогично, забиваем пустые позиции нулями):"
   ]
  },
  {
   "cell_type": "code",
   "execution_count": 74,
   "id": "3b6d9cf8-0699-4ce0-ac11-8c4fd756c165",
   "metadata": {},
   "outputs": [
    {
     "name": "stdout",
     "output_type": "stream",
     "text": [
      "11.98402424049139\n"
     ]
    }
   ],
   "source": [
    "print(dcg(y,k=10))"
   ]
  },
  {
   "cell_type": "markdown",
   "id": "1ff6c1b0-56ad-4e77-ad1b-4e996839b24c",
   "metadata": {},
   "source": [
    "## Считаем DCG@K с помощью библиотеки catboost"
   ]
  },
  {
   "cell_type": "markdown",
   "id": "a5c657bd-3789-4433-87ac-85245880d5d9",
   "metadata": {},
   "source": [
    "Сравним наш расчет DCG@K с тем, что выдает **catboost**.\n",
    "\n",
    "Для этого воспользуемся функцией _catboost.utils.eval_metric_, которая принимает на вход 3 списка:\n",
    "- список ожидаемых оценок\n",
    "- список \"ранков\", которые задают порядок документов внутри группы\n",
    "- список group id, которые задают принадлежность данного документа к группе, где под группой подразумевается запрос, т.е. все документы группируются по запросу. В нашем примере всего один запрос **Q**, поэтому будем считать что у всех документов один и тот же group_id=1\n"
   ]
  },
  {
   "cell_type": "markdown",
   "id": "d8509fa1-bffa-4007-bf21-15e5dc212232",
   "metadata": {},
   "source": [
    "Список ожидаемых оценок у нас уже есть, это y:"
   ]
  },
  {
   "cell_type": "code",
   "execution_count": 75,
   "id": "942a4a47-3a85-4190-ad10-30d3b4c163f4",
   "metadata": {
    "scrolled": true
   },
   "outputs": [
    {
     "name": "stdout",
     "output_type": "stream",
     "text": [
      "[3, 2, 2, 1, 2]\n"
     ]
    }
   ],
   "source": [
    "print(y)"
   ]
  },
  {
   "cell_type": "markdown",
   "id": "1fdcf20e-17c7-452c-8ab5-e3e9c8ca91b8",
   "metadata": {},
   "source": [
    "Теперь надо сформировать список \"ранков\" y_hat, которые задают порядок, в котором документы были возвращены поисковой системой.<br>\n",
    "В нашем случае в качесте ранка можно использовать позицию, только \"наоборот\" -- минимальная позиция соответствует максимальному ранку."
   ]
  },
  {
   "cell_type": "code",
   "execution_count": 76,
   "id": "af524e0d-a85a-4df9-95a3-b97745d0fd20",
   "metadata": {},
   "outputs": [
    {
     "name": "stdout",
     "output_type": "stream",
     "text": [
      "[5, 4, 3, 2, 1]\n"
     ]
    }
   ],
   "source": [
    "y_hat = [len(y) - i for i in range(len(y))]\n",
    "print(y_hat)"
   ]
  },
  {
   "cell_type": "markdown",
   "id": "3c522364-489c-487d-a696-32acd831f0ec",
   "metadata": {},
   "source": [
    "Также, подготовим список group_id:"
   ]
  },
  {
   "cell_type": "code",
   "execution_count": 77,
   "id": "ca180278-b8c1-428b-b3aa-555e68245ff7",
   "metadata": {},
   "outputs": [
    {
     "name": "stdout",
     "output_type": "stream",
     "text": [
      "[1, 1, 1, 1, 1]\n"
     ]
    }
   ],
   "source": [
    "group_id = [1] * len(y)\n",
    "print(group_id)"
   ]
  },
  {
   "cell_type": "markdown",
   "id": "865ee88d-f6bb-4338-a397-d138ede3b639",
   "metadata": {},
   "source": [
    "Теперь мы можем воспользоваться функцией eval_metric и посчитать DCG@5:"
   ]
  },
  {
   "cell_type": "code",
   "execution_count": 78,
   "id": "5db75ddb-ca8c-4078-9c48-95cad2b5c6f7",
   "metadata": {},
   "outputs": [
    {
     "name": "stdout",
     "output_type": "stream",
     "text": [
      "11.98402424049139\n"
     ]
    }
   ],
   "source": [
    "scores = utils.eval_metric(y, y_hat, 'DCG:top=10;type=Exp', group_id=group_id)\n",
    "print(scores[0])"
   ]
  },
  {
   "cell_type": "markdown",
   "id": "4bdc965c-1546-42fe-9007-7494d2d9918f",
   "metadata": {},
   "source": [
    "Также, с помощью катбуста легко посчитать и другие метрики, например NDCG@K:"
   ]
  },
  {
   "cell_type": "code",
   "execution_count": 79,
   "id": "eea5d8ac-d256-4643-949b-a2db3e5cfb56",
   "metadata": {},
   "outputs": [
    {
     "name": "stdout",
     "output_type": "stream",
     "text": [
      "0.99273940647578\n"
     ]
    }
   ],
   "source": [
    "scores = utils.eval_metric(y, y_hat, 'NDCG:top=10;type=Exp', group_id=group_id)\n",
    "print(scores[0])"
   ]
  }
 ],
 "metadata": {
  "kernelspec": {
   "display_name": "Python 3 (ipykernel)",
   "language": "python",
   "name": "python3"
  },
  "language_info": {
   "codemirror_mode": {
    "name": "ipython",
    "version": 3
   },
   "file_extension": ".py",
   "mimetype": "text/x-python",
   "name": "python",
   "nbconvert_exporter": "python",
   "pygments_lexer": "ipython3",
   "version": "3.11.8"
  }
 },
 "nbformat": 4,
 "nbformat_minor": 5
}
