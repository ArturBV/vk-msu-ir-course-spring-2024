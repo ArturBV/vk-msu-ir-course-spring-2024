{
 "cells": [
  {
   "cell_type": "markdown",
   "id": "bcbc06fe-1769-403c-9834-5b8b9eba0ce4",
   "metadata": {},
   "source": [
    "# Текстовое ранжирование с помощью библиотеки Whoosh"
   ]
  },
  {
   "cell_type": "markdown",
   "id": "b9237e85-7e3a-4b8e-a625-5202f8f7cb60",
   "metadata": {},
   "source": [
    "В этом примере мы рассмотрим как с помощью библиотеки whoosh можно:\n",
    "- проиндексировать корпус текстовых документов\n",
    "- организовать по ней поиск, в котором будет использоваться ранжирование по формуле BM25\n",
    "- посчитать метрики качества такого поиска\n",
    "\n",
    "Будем использовать датасет <a href=\"https://microsoft.github.io/msmarco/\">MS MARCO</a>.\n",
    "\n",
    "Этот датасет сам по себе очень большой и состоит из нескольких частей, поэтому, для удобства, мы сделали из него маленький сэмпл,\n",
    "который надо будет скачать и положить в папку data в корне проекта:"
   ]
  },
  {
   "cell_type": "code",
   "execution_count": 51,
   "id": "b8cc83a4-ac9b-44b1-888b-0d9a4411415a",
   "metadata": {},
   "outputs": [
    {
     "name": "stdout",
     "output_type": "stream",
     "text": [
      "msmarco-docdev-qrels.tsv.gz    msmarco-doctrain-qrels.tsv.gz\n",
      "msmarco-docdev-queries.tsv.gz  msmarco-doctrain-queries.tsv.gz\n",
      "msmarco-docs.tsv\n"
     ]
    }
   ],
   "source": [
    "!ls ../../data/msmarco-sample"
   ]
  },
  {
   "cell_type": "markdown",
   "id": "3b53cd02-8c6f-48a9-98cd-626073ea9a73",
   "metadata": {},
   "source": [
    "Формат этого сэмпла идентичен формату датасета VK MARCO, который будет использоваться во всех последующих ДЗ (в т.ч. в финальном проекте), поэтому весь код этого примера вы сможете переиспользовать в ДЗ.\n",
    "\n",
    "Рассмотрим подробнее формат датасета, нас тут в первую очередь интересуют 3 файла:\n",
    "- msmarco-docs.tsv              - в нем лежат 200 документов, по которым будем искать, в формате DOC_ID\\tURL\\tTITLE\\tBODY\n",
    "- msmarco-docdev-queries.tsv.gz - тут лежат 100 запросов, по которым мы хотим искать, в формате QUERY_ID\\tQUERY\n",
    "- msmarco-docdev-qrels.tsv.gz   - тут хранятся оценки для пар запрос-документ, в формате QUERY_ID 0 DOC_ID LABEL\n",
    "\n",
    "Тут:\n",
    "- \\t       - это табуляция\n",
    "- DOC_ID   - это уникальный идентификатор документа, он имеет вид строки типа \"D2749594\"\n",
    "- QUERY_ID - это уникальный идентификатор запроса, это просто число, например 42568\n",
    "- LABEL    - это оценка релевантности, в датасете MS MARCO используется бинарный критерий релевантности и поэтому она может принимать значения только 0 (документ нерелевантен запросу) или 1 (документ релевантен запросу).\n",
    "\n",
    "Важный момент: в msmarco-docdev-qrels.tsv.gz хранятся только релевантные пары запрос-документ, т.е. LABEL всегда равен 1! Все остальные пары запрос-документ считаем нерелевантными!\n",
    "\n",
    "Документы состоят из 2х зон: TITLE и BODY\n",
    "\n",
    "Теперь попробуем загрузить наш датасет."
   ]
  },
  {
   "cell_type": "markdown",
   "id": "c5c293e6-480d-4189-8948-5d1be161128b",
   "metadata": {},
   "source": [
    "## Загружаем датасет MS MARCO"
   ]
  },
  {
   "cell_type": "markdown",
   "id": "f11351c8-0086-453d-ab69-4aeb9141bc43",
   "metadata": {},
   "source": [
    "Импортируем все что понадобится для дальнейшей работы:"
   ]
  },
  {
   "cell_type": "code",
   "execution_count": 52,
   "id": "96b47d25-5729-44e3-9261-83c3cdff75c4",
   "metadata": {},
   "outputs": [],
   "source": [
    "import math\n",
    "import pathlib\n",
    "import shutil\n",
    "\n",
    "import pandas as pd\n",
    "\n",
    "from whoosh import analysis\n",
    "from whoosh import fields\n",
    "from whoosh import index\n",
    "from whoosh.lang import porter\n",
    "from whoosh.lang.snowball import english, russian\n",
    "from whoosh import qparser"
   ]
  },
  {
   "cell_type": "markdown",
   "id": "52c8e365-e9f1-4f5c-8519-41959b144f9d",
   "metadata": {},
   "source": [
    "### Загружаем запросы"
   ]
  },
  {
   "cell_type": "code",
   "execution_count": 53,
   "id": "f4574e96-880a-454f-b9aa-8bab14697486",
   "metadata": {},
   "outputs": [
    {
     "name": "stdout",
     "output_type": "stream",
     "text": [
      "   query_id                                   query_text\n",
      "0    869891  what kind of party is the cooperative party\n",
      "1    488676                               retinue define\n",
      "2    595568                               what cisco ios\n",
      "3   1039361              who is the author of soccerland\n",
      "4   1089511                        tooth veneers process\n"
     ]
    }
   ],
   "source": [
    "# Путь до корня проекта\n",
    "project_root_dir = pathlib.Path(\"../..\")\n",
    "\n",
    "# Путь до датасета\n",
    "data_dir = project_root_dir.joinpath(\"data/msmarco-sample\")\n",
    "\n",
    "# Файл с запросами\n",
    "queries_file = data_dir.joinpath(f\"msmarco-docdev-queries.tsv.gz\")\n",
    "\n",
    "# Загружаем запросы во фрейм\n",
    "queries_df = pd.read_csv(queries_file, sep='\\t', header=None)\n",
    "queries_df.columns = ['query_id', 'query_text']\n",
    "print(queries_df.head(5))"
   ]
  },
  {
   "cell_type": "markdown",
   "id": "75c50f1a-5620-40b2-b381-3ce88234b874",
   "metadata": {},
   "source": [
    "### Загружаем оценки"
   ]
  },
  {
   "cell_type": "code",
   "execution_count": 54,
   "id": "506de471-4de2-4001-bf34-833ae1cfc86e",
   "metadata": {},
   "outputs": [
    {
     "name": "stdout",
     "output_type": "stream",
     "text": [
      "   query_id  unused    doc_id  label\n",
      "0     42568       0  D2749594      1\n",
      "1     53813       0   D779848      1\n",
      "2     54843       0  D1475635      1\n",
      "3     60357       0   D740627      1\n",
      "4     61180       0   D971677      1\n"
     ]
    }
   ],
   "source": [
    "# Файл с оценками\n",
    "qrels_file = data_dir.joinpath(f\"msmarco-docdev-qrels.tsv.gz\")\n",
    "\n",
    "# Загружаем оценки во фрейм\n",
    "qrels_df = pd.read_csv(qrels_file, sep=' ', header=None)\n",
    "qrels_df.columns = ['query_id', 'unused', 'doc_id', 'label']\n",
    "print(qrels_df.head(5))"
   ]
  },
  {
   "cell_type": "markdown",
   "id": "ab68e9df-2479-472b-8f08-e8f47057f2d4",
   "metadata": {},
   "source": [
    "### Конвертируем запросы и оценки в более удобный для дальнейшей работы формат"
   ]
  },
  {
   "cell_type": "code",
   "execution_count": 55,
   "id": "bb6eed30-ff6e-4801-a292-a678eb727150",
   "metadata": {},
   "outputs": [
    {
     "name": "stdout",
     "output_type": "stream",
     "text": [
      "{869891: 'what kind of party is the cooperative party', 488676: 'retinue define', 595568: 'what cisco ios', 1039361: 'who is the author of soccerland', 1089511: 'tooth veneers process', 302337: 'how much are servers pay at olive garden', 605651: 'what county is emmett ks in', 780336: 'what is orthorexia', 602352: 'what county is alton bay,nh in?', 660479: 'what food helps to produce collagen', 1086765: 'what are the tax benefits of a heloc', 733892: 'what is considered inpatient types', 1004228: 'when is champaign il midterm elections', 1051339: 'what is medical aki', 241246: 'how long can a hippo hold its breath underwater', 42568: 'average salary for public relations manager', 250228: 'how long does a stress test usually take', 1094081: 'is minneapolis sick and safe time law', 1084889: 'what dna molecules bond with each other', 910818: 'what type of cancer did jim kelly have', 504335: 'stress effects on the body', 667136: 'what happens when catalytic converter is bad', 455659: 'moneygram toll free number', 525467: 'tump definition', 1063777: 'what is an achilles heel injury', 539601: 'was abraham lincoln half black', 1093406: 'liquid extenze side effects', 509111: 'symptoms pain under arm', 820267: 'what is the endocrine system responsible for?', 609956: 'what county is mt vernon ohio', 1033398: 'what is the purpose of the nursing department', 148564: 'difference between router and firewall', 416846: 'is lupus a thyroid disease', 1041948: 'what is the dare font', 573452: 'what are the siamese twins?', 162662: 'does adult acne rosacea give you blepharitis', 1041043: 'what is the difference between a c-corp and a s-corp?', 1046569: 'what is scc pacific in navy', 282214: 'how many died in boston bombing', 1093181: 'martinica meaning', 1069222: 'what is a pmi id', 293401: 'how many players on a basketball team play at once', 250636: 'how long does an average runner run 10kn', 690010: 'what is a mandatory profile windows', 1096964: 'how many medical schools in south korea', 307504: 'how much do t mobile associates make', 936273: 'when can eviction proceeding start on a rental', 558548: 'what are extenuating circumstances', 1035321: 'what is the net ionic charge of a calcium ion?', 65584: 'can chewing gum prevent heartburn', 583798: 'what cause gi problems', 54843: 'blueberries pint', 142382: 'determining marginal cost from total cost equation', 102506: 'cost of appendectomy surgery in usa', 982348: 'where is eunice nm', 1034204: 'what is the population of wuhan china', 560245: 'what are illnesses like cancer and hiv called', 1092348: 'naegleria symptoms', 60357: 'calories in ham sandwich', 1100455: 'foods to keep constipation away', 1047010: 'what is ring around the rosie', 1080555: 'what form of government did stalin use', 1060795: 'what is average wet bulb temp', 1096776: 'how many percent of people worldwide have vitiligo', 1093112: 'meaning of addae in african', 989573: 'who is postmaster for vancouver washington', 1086046: 'what causes the li', 409694: 'is evaporation an exothermic or endothermic process?', 842333: 'what is the purpose of debits and credits', 1000083: 'define: precipitous delivery', 53813: 'binding spell definition', 1085245: 'what county is upper saddle river nj in', 1059820: 'whose number of terms is limited to two', 414799: 'is it windy in arizona', 1024288: 'what nationality is sanders', 137440: 'definition of prostration', 515335: 'the definition of the word yield', 1084383: 'what does a t with a dot over it mean on a prescription', 138223: 'definition of slouch', 1088889: 'vulnerability analysis', 1070324: 'what is a mobile kitchen', 1043568: 'what is the bryozoans', 573157: 'what are the restrictions on a california provisional license', 906126: 'what to call a graduation speech', 389385: 'human symptoms of bird flu', 1017773: 'what time period does mindhunter take place', 417362: 'is marijuana used as an add medicine?', 746065: 'what is facebook used for', 1018658: 'what the patella is', 413079: 'is insulin given subcutaneous', 913509: 'what type of muscle contains actin and myosin', 436847: 'largest mall in toronto', 582848: 'what can you recycle for money', 420400: 'is paris in europe', 1095377: 'how much waste does the average american make', 61180: 'calories italian beef sandwich', 988745: 'who is the new york county clerk', 1078731: 'withdrawal symptoms for coffee', 1045135: 'what is the acceptance rate at wellesley', 1045494: 'what is sustained performance'}\n"
     ]
    }
   ],
   "source": [
    "# Представляем запросы в виде словаря: Query ID -> Text\n",
    "query_id2text = {query_id: query_text for query_id, query_text in zip(queries_df['query_id'], queries_df['query_text'])}\n",
    "print(query_id2text)"
   ]
  },
  {
   "cell_type": "code",
   "execution_count": 56,
   "id": "ddc4aef7-679a-42c8-a168-d320949067f3",
   "metadata": {},
   "outputs": [
    {
     "name": "stdout",
     "output_type": "stream",
     "text": [
      "{42568: {'D2749594': 1}, 53813: {'D779848': 1}, 54843: {'D1475635': 1}, 60357: {'D740627': 1}, 61180: {'D971677': 1}, 65584: {'D1674076': 1}, 102506: {'D612380': 1}, 137440: {'D2392325': 1}, 138223: {'D1288403': 1}, 142382: {'D82515': 1}, 148564: {'D2557627': 1}, 162662: {'D56193': 1}, 241246: {'D2638732': 1}, 250228: {'D446341': 1}, 250636: {'D521463': 1}, 282214: {'D1683151': 1}, 293401: {'D128007': 1}, 302337: {'D1212479': 1}, 307504: {'D3543950': 1}, 389385: {'D1471949': 1}, 409694: {'D2405355': 1}, 413079: {'D899910': 1}, 414799: {'D209747': 1}, 416846: {'D1477895': 1}, 417362: {'D17357': 1}, 420400: {'D551076': 1}, 436847: {'D2064661': 1}, 455659: {'D1348364': 1}, 488676: {'D1498313': 1}, 504335: {'D1028631': 1}, 509111: {'D357179': 1}, 515335: {'D1269311': 1}, 525467: {'D2458804': 1}, 539601: {'D1295431': 1}, 558548: {'D2526315': 1}, 560245: {'D60086': 1}, 573157: {'D1647749': 1}, 573452: {'D1811785': 1}, 582848: {'D590557': 1}, 583798: {'D2202662': 1}, 595568: {'D1903511': 1}, 602352: {'D2373015': 1}, 605651: {'D2487491': 1}, 609956: {'D1462007': 1}, 660479: {'D512930': 1}, 667136: {'D2048409': 1}, 690010: {'D1485423': 1}, 733892: {'D449089': 1}, 746065: {'D1376324': 1}, 780336: {'D2509064': 1}, 820267: {'D2752411': 1}, 842333: {'D3199088': 1}, 869891: {'D3368203': 1}, 906126: {'D3129737': 1}, 910818: {'D2730749': 1}, 913509: {'D132756': 1}, 936273: {'D2115283': 1}, 982348: {'D3139838': 1}, 988745: {'D150341': 1}, 989573: {'D670581': 1}, 1000083: {'D566932': 1}, 1004228: {'D527904': 1}, 1017773: {'D433905': 1}, 1018658: {'D427693': 1}, 1024288: {'D384771': 1}, 1033398: {'D306798': 1}, 1034204: {'D299907': 1}, 1035321: {'D290623': 1}, 1039361: {'D2960247': 1}, 1041043: {'D211469': 1}, 1041948: {'D235550': 1}, 1043568: {'D224887': 1}, 1045135: {'D211547': 1}, 1045494: {'D206479': 1}, 1046569: {'D195316': 1}, 1047010: {'D190097': 1}, 1051339: {'D62781': 1}, 1059820: {'D904847': 1}, 1060795: {'D69078': 1}, 1063777: {'D552855': 1}, 1069222: {'D3373624': 1}, 1070324: {'D3336081': 1}, 1078731: {'D2620321': 1}, 1080555: {'D3006670': 1}, 1084383: {'D2329988': 1}, 1084889: {'D2165746': 1}, 1085245: {'D2048132': 1}, 1086046: {'D1784830': 1}, 1086765: {'D1544793': 1}, 1088889: {'D775832': 1}, 1089511: {'D494582': 1}, 1092348: {'D2960038': 1}, 1093112: {'D2742445': 1}, 1093181: {'D2721679': 1}, 1093406: {'D2650656': 1}, 1094081: {'D2462788': 1}, 1095377: {'D284635': 1}, 1096776: {'D1537152': 1}, 1096964: {'D643242': 1}, 1100455: {'D3263449': 1}}\n"
     ]
    }
   ],
   "source": [
    "# Представляем оценки в виде словаря: Query ID -> Doc ID -> Label (relevance)\n",
    "qrels = {}\n",
    "for i in range(0, len(qrels_df)):\n",
    "    qrels_row = qrels_df.iloc[i]\n",
    "    query_id = qrels_row['query_id']\n",
    "    doc_id = qrels_row['doc_id']\n",
    "    label = qrels_row['label']\n",
    "    if label != 1:\n",
    "        raise Exception(f\"invalid label in qrels: doc_id = {doc_id}\")\n",
    "\n",
    "    doc_id2label = qrels.get(query_id)\n",
    "    if doc_id2label is None:\n",
    "        doc_id2label = {}\n",
    "        qrels[query_id] = doc_id2label\n",
    "        doc_id2label[doc_id] = label\n",
    "print(qrels)"
   ]
  },
  {
   "cell_type": "markdown",
   "id": "73d20af3-4968-49d3-b649-2fecb63b2307",
   "metadata": {},
   "source": [
    "### Загружаем документы"
   ]
  },
  {
   "cell_type": "code",
   "execution_count": 57,
   "id": "ce7ce39a-dafd-4bc6-a649-8d3d5bbeb48e",
   "metadata": {},
   "outputs": [
    {
     "name": "stdout",
     "output_type": "stream",
     "text": [
      "Loaded 200 docs\n"
     ]
    }
   ],
   "source": [
    "# Функция которая читает все документы в один большой список\n",
    "def read_docs(docs_file):\n",
    "    docs = []\n",
    "    with open(docs_file, 'rt') as f:\n",
    "        for line in f:\n",
    "            # Парсим следующую строку\n",
    "            parts = line.rstrip('\\n').split('\\t')\n",
    "            if len(parts) != 4:\n",
    "                logging.warning(\"invalid line: num_lines = %d num_parts = %d\", self.num_lines, len(parts))\n",
    "            doc_id, url, title, body = parts\n",
    "\n",
    "            # Валидируем\n",
    "            if not doc_id or len(doc_id) < 2:\n",
    "                raise RuntimeError(f\"invalid doc id: num_lines = {self.num_lines}\")\n",
    "            if not url:\n",
    "                raise RuntimeError(f\"invalid url: num_lines = {self.num_lines}\")\n",
    "           \n",
    "            # Заголовок вида '.' обозначает пустой заголовок (особенность датасета MS MARCO)\n",
    "            if title == '.':\n",
    "                title = ''\n",
    "\n",
    "            # Пакуем данные документа в словарь\n",
    "            doc = {'url': url, 'title': title, 'body': body, 'docid': doc_id}\n",
    "            docs.append(doc)\n",
    "    return docs\n",
    "\n",
    "# Файл с документами\n",
    "docs_file = data_dir.joinpath(\"msmarco-docs.tsv\")\n",
    "\n",
    "# Загружаем все документы\n",
    "docs = read_docs(docs_file)\n",
    "print(f\"Loaded {len(docs)} docs\")"
   ]
  },
  {
   "cell_type": "markdown",
   "id": "1c65b4e0-cb3f-44ba-8b86-7da2bd6d0d4f",
   "metadata": {},
   "source": [
    "## Индексируем документы"
   ]
  },
  {
   "cell_type": "markdown",
   "id": "5857bb2a-245f-4ad2-89df-f4705481c174",
   "metadata": {},
   "source": [
    "### Готовимся к индексации"
   ]
  },
  {
   "cell_type": "code",
   "execution_count": 58,
   "id": "23ac436f-3cb8-4f73-bc2e-dff592fbb7a2",
   "metadata": {},
   "outputs": [],
   "source": [
    "# Временная папка для индекса\n",
    "index_dir = pathlib.Path(\"/tmp/index\")\n",
    "\n",
    "# Удаляем старый индекс, если такой существует\n",
    "shutil.rmtree(index_dir, ignore_errors=True)\n",
    "\n",
    "# Создаем заново папку под индекс\n",
    "index_dir.mkdir(exist_ok=True, parents=True)\n",
    "\n",
    "# Создаем analyzer (без поддержки стемминга) который будет использоваться для обработки текстов запроса и документа\n",
    "#analyzer = analysis.StandardAnalyzer()\n",
    "\n",
    "# Создаем Analyzer с поддержкой стемминга для английского языка\n",
    "stemmer = english.EnglishStemmer()\n",
    "stemfn = stemmer.stem\n",
    "analyzer = analysis.StemmingAnalyzer(stemfn=stemfn)\n",
    "\n",
    "# Создаем схему индекса: будем хранить Doc ID, URL, и тексты TITLE и BODY\n",
    "schema = fields.Schema(\n",
    "    doc_id=fields.ID(stored=True), \n",
    "    url=fields.TEXT(stored=True),\n",
    "    title=fields.TEXT(analyzer=analyzer),\n",
    "    body=fields.TEXT(analyzer=analyzer)\n",
    ")"
   ]
  },
  {
   "cell_type": "markdown",
   "id": "e900215f-0111-45e5-af0a-e3d57be0ae59",
   "metadata": {},
   "source": [
    "### Создаем и заполняем индекс"
   ]
  },
  {
   "cell_type": "code",
   "execution_count": 59,
   "id": "c61e6720-07e5-4de9-ba65-30b9f3ecb2d5",
   "metadata": {},
   "outputs": [],
   "source": [
    "# Создаем индекс согласно объявленной схеме\n",
    "ix = index.create_in(index_dir, schema)\n",
    "\n",
    "# Объект-writer который будет использоваться для добавления новых документов в индекс\n",
    "writer = ix.writer()\n",
    "\n",
    "# Добавляем все наши документы в индекс\n",
    "for doc in docs:\n",
    "    writer.add_document(doc_id=doc['docid'], url=doc['url'], title=doc['title'], body=doc['body'])\n",
    "\n",
    "# Записываем на диск\n",
    "writer.commit()"
   ]
  },
  {
   "cell_type": "markdown",
   "id": "62f15c08-75ec-4db5-a8f0-0717095bb5ea",
   "metadata": {},
   "source": [
    "Посмотрим на структуру индекса:"
   ]
  },
  {
   "cell_type": "code",
   "execution_count": 60,
   "id": "f42d5e0f-2d2a-4fe8-a84c-dbc8cab8b564",
   "metadata": {},
   "outputs": [
    {
     "name": "stdout",
     "output_type": "stream",
     "text": [
      "_MAIN_1.toc  MAIN_w704nz5ppuoxbjmq.seg\tMAIN_WRITELOCK\n"
     ]
    }
   ],
   "source": [
    "!ls /tmp/index"
   ]
  },
  {
   "cell_type": "markdown",
   "id": "0e627243-7dc9-48b4-82ad-f460a3b0f8fd",
   "metadata": {},
   "source": [
    "## Ищем запросы в индексе"
   ]
  },
  {
   "cell_type": "code",
   "execution_count": 61,
   "id": "731cd9ce-70a1-4f14-844e-6ea85992c5a8",
   "metadata": {},
   "outputs": [
    {
     "name": "stdout",
     "output_type": "stream",
     "text": [
      "Next query: query_id = 42568 query_text = 'average salary for public relations manager' dcg@10 = 1.000\n",
      "Next query: query_id = 53813 query_text = 'binding spell definition' dcg@10 = 1.000\n",
      "Next query: query_id = 54843 query_text = 'blueberries pint' dcg@10 = 1.000\n",
      "Next query: query_id = 60357 query_text = 'calories in ham sandwich' dcg@10 = 1.000\n",
      "Next query: query_id = 61180 query_text = 'calories italian beef sandwich' dcg@10 = 1.000\n",
      "Next query: query_id = 65584 query_text = 'can chewing gum prevent heartburn' dcg@10 = 1.000\n",
      "Next query: query_id = 102506 query_text = 'cost of appendectomy surgery in usa' dcg@10 = 1.000\n",
      "Next query: query_id = 137440 query_text = 'definition of prostration' dcg@10 = 1.000\n",
      "Next query: query_id = 138223 query_text = 'definition of slouch' dcg@10 = 1.000\n",
      "Next query: query_id = 142382 query_text = 'determining marginal cost from total cost equation' dcg@10 = 1.000\n",
      "Next query: query_id = 148564 query_text = 'difference between router and firewall' dcg@10 = 1.000\n",
      "Next query: query_id = 162662 query_text = 'does adult acne rosacea give you blepharitis' dcg@10 = 1.000\n",
      "Next query: query_id = 241246 query_text = 'how long can a hippo hold its breath underwater' dcg@10 = 1.000\n",
      "Next query: query_id = 250228 query_text = 'how long does a stress test usually take' dcg@10 = 1.000\n",
      "Next query: query_id = 250636 query_text = 'how long does an average runner run 10kn' dcg@10 = 1.000\n",
      "Next query: query_id = 282214 query_text = 'how many died in boston bombing' dcg@10 = 1.000\n",
      "Next query: query_id = 293401 query_text = 'how many players on a basketball team play at once' dcg@10 = 1.000\n",
      "Next query: query_id = 302337 query_text = 'how much are servers pay at olive garden' dcg@10 = 1.000\n",
      "Next query: query_id = 307504 query_text = 'how much do t mobile associates make' dcg@10 = 1.000\n",
      "Next query: query_id = 389385 query_text = 'human symptoms of bird flu' dcg@10 = 1.000\n",
      "Next query: query_id = 409694 query_text = 'is evaporation an exothermic or endothermic process?' dcg@10 = 1.000\n",
      "Next query: query_id = 413079 query_text = 'is insulin given subcutaneous' dcg@10 = 1.000\n",
      "Next query: query_id = 414799 query_text = 'is it windy in arizona' dcg@10 = 1.000\n",
      "Next query: query_id = 416846 query_text = 'is lupus a thyroid disease' dcg@10 = 1.000\n",
      "Next query: query_id = 417362 query_text = 'is marijuana used as an add medicine?' dcg@10 = 1.000\n",
      "Next query: query_id = 420400 query_text = 'is paris in europe' dcg@10 = 1.000\n",
      "Next query: query_id = 436847 query_text = 'largest mall in toronto' dcg@10 = 1.000\n",
      "Next query: query_id = 455659 query_text = 'moneygram toll free number' dcg@10 = 1.000\n",
      "Next query: query_id = 488676 query_text = 'retinue define' dcg@10 = 1.000\n",
      "Next query: query_id = 504335 query_text = 'stress effects on the body' dcg@10 = 0.500\n",
      "Next query: query_id = 509111 query_text = 'symptoms pain under arm' dcg@10 = 1.000\n",
      "Next query: query_id = 515335 query_text = 'the definition of the word yield' dcg@10 = 1.000\n",
      "Next query: query_id = 525467 query_text = 'tump definition' dcg@10 = 1.000\n",
      "Next query: query_id = 539601 query_text = 'was abraham lincoln half black' dcg@10 = 1.000\n",
      "Next query: query_id = 558548 query_text = 'what are extenuating circumstances' dcg@10 = 1.000\n",
      "Next query: query_id = 560245 query_text = 'what are illnesses like cancer and hiv called' dcg@10 = 1.000\n",
      "Next query: query_id = 573157 query_text = 'what are the restrictions on a california provisional license' dcg@10 = 1.000\n",
      "Next query: query_id = 573452 query_text = 'what are the siamese twins?' dcg@10 = 1.000\n",
      "Next query: query_id = 582848 query_text = 'what can you recycle for money' dcg@10 = 1.000\n",
      "Next query: query_id = 583798 query_text = 'what cause gi problems' dcg@10 = 1.000\n",
      "Next query: query_id = 595568 query_text = 'what cisco ios' dcg@10 = 1.000\n",
      "Next query: query_id = 602352 query_text = 'what county is alton bay,nh in?' dcg@10 = 1.000\n",
      "Next query: query_id = 605651 query_text = 'what county is emmett ks in' dcg@10 = 1.000\n",
      "Next query: query_id = 609956 query_text = 'what county is mt vernon ohio' dcg@10 = 1.000\n",
      "Next query: query_id = 660479 query_text = 'what food helps to produce collagen' dcg@10 = 1.000\n",
      "Next query: query_id = 667136 query_text = 'what happens when catalytic converter is bad' dcg@10 = 1.000\n",
      "Next query: query_id = 690010 query_text = 'what is a mandatory profile windows' dcg@10 = 1.000\n",
      "Next query: query_id = 733892 query_text = 'what is considered inpatient types' dcg@10 = 1.000\n",
      "Next query: query_id = 746065 query_text = 'what is facebook used for' dcg@10 = 1.000\n",
      "Next query: query_id = 780336 query_text = 'what is orthorexia' dcg@10 = 0.000\n",
      "Next query: query_id = 820267 query_text = 'what is the endocrine system responsible for?' dcg@10 = 1.000\n",
      "Next query: query_id = 842333 query_text = 'what is the purpose of debits and credits' dcg@10 = 1.000\n",
      "Next query: query_id = 869891 query_text = 'what kind of party is the cooperative party' dcg@10 = 0.631\n",
      "Next query: query_id = 906126 query_text = 'what to call a graduation speech' dcg@10 = 1.000\n",
      "Next query: query_id = 910818 query_text = 'what type of cancer did jim kelly have' dcg@10 = 1.000\n",
      "Next query: query_id = 913509 query_text = 'what type of muscle contains actin and myosin' dcg@10 = 1.000\n",
      "Next query: query_id = 936273 query_text = 'when can eviction proceeding start on a rental' dcg@10 = 1.000\n",
      "Next query: query_id = 982348 query_text = 'where is eunice nm' dcg@10 = 1.000\n",
      "Next query: query_id = 988745 query_text = 'who is the new york county clerk' dcg@10 = 1.000\n",
      "Next query: query_id = 989573 query_text = 'who is postmaster for vancouver washington' dcg@10 = 1.000\n",
      "Next query: query_id = 1000083 query_text = 'define: precipitous delivery' dcg@10 = 1.000\n",
      "Next query: query_id = 1004228 query_text = 'when is champaign il midterm elections' dcg@10 = 1.000\n",
      "Next query: query_id = 1017773 query_text = 'what time period does mindhunter take place' dcg@10 = 1.000\n",
      "Next query: query_id = 1018658 query_text = 'what the patella is' dcg@10 = 1.000\n",
      "Next query: query_id = 1024288 query_text = 'what nationality is sanders' dcg@10 = 1.000\n",
      "Next query: query_id = 1033398 query_text = 'what is the purpose of the nursing department' dcg@10 = 1.000\n",
      "Next query: query_id = 1034204 query_text = 'what is the population of wuhan china' dcg@10 = 1.000\n",
      "Next query: query_id = 1035321 query_text = 'what is the net ionic charge of a calcium ion?' dcg@10 = 1.000\n",
      "Next query: query_id = 1039361 query_text = 'who is the author of soccerland' dcg@10 = 1.000\n",
      "Next query: query_id = 1041043 query_text = 'what is the difference between a c-corp and a s-corp?' dcg@10 = 1.000\n",
      "Next query: query_id = 1041948 query_text = 'what is the dare font' dcg@10 = 1.000\n",
      "Next query: query_id = 1043568 query_text = 'what is the bryozoans' dcg@10 = 0.000\n",
      "Next query: query_id = 1045135 query_text = 'what is the acceptance rate at wellesley' dcg@10 = 1.000\n",
      "Next query: query_id = 1045494 query_text = 'what is sustained performance' dcg@10 = 1.000\n",
      "Next query: query_id = 1046569 query_text = 'what is scc pacific in navy' dcg@10 = 1.000\n",
      "Next query: query_id = 1047010 query_text = 'what is ring around the rosie' dcg@10 = 1.000\n",
      "Next query: query_id = 1051339 query_text = 'what is medical aki' dcg@10 = 0.631\n",
      "Next query: query_id = 1059820 query_text = 'whose number of terms is limited to two' dcg@10 = 0.000\n",
      "Next query: query_id = 1060795 query_text = 'what is average wet bulb temp' dcg@10 = 1.000\n",
      "Next query: query_id = 1063777 query_text = 'what is an achilles heel injury' dcg@10 = 1.000\n",
      "Next query: query_id = 1069222 query_text = 'what is a pmi id' dcg@10 = 1.000\n",
      "Next query: query_id = 1070324 query_text = 'what is a mobile kitchen' dcg@10 = 0.000\n",
      "Next query: query_id = 1078731 query_text = 'withdrawal symptoms for coffee' dcg@10 = 1.000\n",
      "Next query: query_id = 1080555 query_text = 'what form of government did stalin use' dcg@10 = 1.000\n",
      "Next query: query_id = 1084383 query_text = 'what does a t with a dot over it mean on a prescription' dcg@10 = 1.000\n",
      "Next query: query_id = 1084889 query_text = 'what dna molecules bond with each other' dcg@10 = 1.000\n",
      "Next query: query_id = 1085245 query_text = 'what county is upper saddle river nj in' dcg@10 = 1.000\n",
      "Next query: query_id = 1086046 query_text = 'what causes the li' dcg@10 = 1.000\n",
      "Next query: query_id = 1086765 query_text = 'what are the tax benefits of a heloc' dcg@10 = 1.000\n",
      "Next query: query_id = 1088889 query_text = 'vulnerability analysis' dcg@10 = 1.000\n",
      "Next query: query_id = 1089511 query_text = 'tooth veneers process' dcg@10 = 1.000\n",
      "Next query: query_id = 1092348 query_text = 'naegleria symptoms' dcg@10 = 1.000\n",
      "Next query: query_id = 1093112 query_text = 'meaning of addae in african' dcg@10 = 1.000\n",
      "Next query: query_id = 1093181 query_text = 'martinica meaning' dcg@10 = 1.000\n",
      "Next query: query_id = 1093406 query_text = 'liquid extenze side effects' dcg@10 = 1.000\n",
      "Next query: query_id = 1094081 query_text = 'is minneapolis sick and safe time law' dcg@10 = 1.000\n",
      "Next query: query_id = 1095377 query_text = 'how much waste does the average american make' dcg@10 = 1.000\n",
      "Next query: query_id = 1096776 query_text = 'how many percent of people worldwide have vitiligo' dcg@10 = 1.000\n",
      "Next query: query_id = 1096964 query_text = 'how many medical schools in south korea' dcg@10 = 1.000\n",
      "Next query: query_id = 1100455 query_text = 'foods to keep constipation away' dcg@10 = 0.631\n"
     ]
    }
   ],
   "source": [
    "# Функция для подсчета DCG@K, понадобится нам для расчета метрик\n",
    "def dcg(y, k=10):\n",
    "    \"\"\"Computes DCG@k for a single query.\n",
    "            \n",
    "    y is a list of relevance grades sorted by position.\n",
    "    len(y) could be <= k.\n",
    "    \"\"\"     \n",
    "    r = 0.\n",
    "    for i, y_i in enumerate(y):\n",
    "        p = i + 1 # position starts from 1\n",
    "        r += (2 ** y_i - 1) / math.log(1 + p, 2)\n",
    "        if p == k:\n",
    "            break\n",
    "    return r\n",
    "\n",
    "# Готовим парсер запросов. Будем искать сразу в 2х полях (TITLE и BODY) используя т.н. кворум (булев поиск с \"мягким И\")\n",
    "qp = qparser.MultifieldParser(['title', 'body'], schema=ix.schema, group=qparser.OrGroup.factory(0.9))\n",
    "qp.remove_plugin_class(qparser.WildcardPlugin) # Ускоряет поиск\n",
    "\n",
    "# Суммарный DCG@10 по всем запросам\n",
    "dcg10_sum = 0\n",
    "\n",
    "# Вспомогательная функция, которая превращает None в 0\n",
    "def none_to_label(label):\n",
    "    return 0 if label is None else label\n",
    "    \n",
    "# Создаем объект searcher с помощью которого будем искать в индексе\n",
    "with ix.searcher() as searcher:\n",
    "    # Ищем каждый запрос по очереди\n",
    "    query_ids = sorted(query_id2text.keys())\n",
    "    for query_id in query_ids:\n",
    "        query_text = query_id2text[query_id]\n",
    "        \n",
    "        # Парсим запрос\n",
    "        query = qp.parse(query_text)\n",
    "\n",
    "        # Собственно сам поиск\n",
    "        results = searcher.search(query)\n",
    "\n",
    "        # Достаем из результатов поиска т.н. \"хиты\" -- найденные документы.\n",
    "        # Результаты уже отранжированы с помощью формулы BM25!\n",
    "        num_hits = results.scored_length()\n",
    "        hits = [results[i] for i in range(num_hits)]\n",
    "        #print(hits)\n",
    "\n",
    "        # Найденные Doc ID\n",
    "        found_doc_ids = [hit['doc_id'] for hit in hits]\n",
    "\n",
    "        # Получаем все известные оценки для этого запроса\n",
    "        doc_id2label = qrels[query_id]\n",
    "\n",
    "        # Формируем сортированный по убыванию ранка (BM25) список оценок для всех найденных документов\n",
    "        labels = [none_to_label(doc_id2label.get(doc_id)) for doc_id in found_doc_ids]\n",
    "\n",
    "        # Считаем DCG@10 для этого запроса\n",
    "        dcg10 = dcg(labels, k=10)\n",
    "        dcg10_sum += dcg10\n",
    "        print(f\"Next query: query_id = {query_id} query_text = '{query_text}' dcg@10 = {dcg10:.3f}\")"
   ]
  },
  {
   "cell_type": "markdown",
   "id": "63acb1ff-a02a-4bae-a373-0eb2dff4b3e7",
   "metadata": {},
   "source": [
    "### Считаем средние метрики"
   ]
  },
  {
   "cell_type": "markdown",
   "id": "12b7e08e-efba-4e9b-9bff-f97536ba79bc",
   "metadata": {},
   "source": [
    "В случае бинарной релевантности метрика DCG является не очень подходящей для оценки качества поиска, но мы тем не менее будем использовать именно ее т.к. в ДЗ будет использоваться датасет VK MARCO в котором label уже представляет из себя асессорскую оценку в диапазоне [0,4]\n"
   ]
  },
  {
   "cell_type": "code",
   "execution_count": 62,
   "id": "a130db64-45ec-495c-8f87-e12e9b2f17a4",
   "metadata": {},
   "outputs": [
    {
     "name": "stdout",
     "output_type": "stream",
     "text": [
      "0.9439278926071435\n"
     ]
    }
   ],
   "source": [
    "# Полное число запросов\n",
    "num_queries = len(query_id2text)\n",
    "\n",
    "# Среднее DCG@10\n",
    "dcg10_avg = dcg10_sum / num_queries\n",
    "print(dcg10_avg)"
   ]
  }
 ],
 "metadata": {
  "kernelspec": {
   "display_name": "Python 3 (ipykernel)",
   "language": "python",
   "name": "python3"
  },
  "language_info": {
   "codemirror_mode": {
    "name": "ipython",
    "version": 3
   },
   "file_extension": ".py",
   "mimetype": "text/x-python",
   "name": "python",
   "nbconvert_exporter": "python",
   "pygments_lexer": "ipython3",
   "version": "3.11.8"
  }
 },
 "nbformat": 4,
 "nbformat_minor": 5
}
