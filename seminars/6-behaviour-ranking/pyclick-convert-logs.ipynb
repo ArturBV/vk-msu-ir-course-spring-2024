{
 "cells": [
  {
   "cell_type": "markdown",
   "metadata": {},
   "source": [
    "https://github.com/markovi/PyClick/"
   ]
  },
  {
   "cell_type": "code",
   "execution_count": 1,
   "metadata": {},
   "outputs": [],
   "source": [
    "def convert_session(line):\n",
    "    session_id, _, query, clicked_indices, serp = line.strip().split(\"\\t\")\n",
    "    serp = list(map(lambda x: x[7:], serp.split(\",\")))\n",
    "    serp_result = \"\\t\".join(serp)\n",
    "\n",
    "    yield f\"{session_id}\\t0\\tQ\\t{query}\\t0\\t{serp_result}\"\n",
    "\n",
    "    clicked_indices = list(map(int, clicked_indices.split(\",\")))\n",
    "    for clicked_index in clicked_indices:\n",
    "        yield f\"{session_id}\\t0\\tC\\t{serp[clicked_index]}\"\n"
   ]
  },
  {
   "cell_type": "code",
   "execution_count": 4,
   "metadata": {},
   "outputs": [],
   "source": [
    "with open(\"./iphone-20240201-20240202\", \"w\", encoding=\"utf-8\") as f_out:\n",
    "    with open(\"./iphone-20240201-erased.tsv\", \"r\", encoding=\"utf-8\") as f_in:\n",
    "        for source_line in f_in:\n",
    "            for result_line in convert_session(source_line):\n",
    "                f_out.write(result_line)\n",
    "                f_out.write(\"\\n\")"
   ]
  },
  {
   "cell_type": "code",
   "execution_count": null,
   "metadata": {},
   "outputs": [],
   "source": []
  }
 ],
 "metadata": {
  "kernelspec": {
   "display_name": "dbn",
   "language": "python",
   "name": "python3"
  },
  "language_info": {
   "codemirror_mode": {
    "name": "ipython",
    "version": 3
   },
   "file_extension": ".py",
   "mimetype": "text/x-python",
   "name": "python",
   "nbconvert_exporter": "python",
   "pygments_lexer": "ipython3",
   "version": "3.10.13"
  }
 },
 "nbformat": 4,
 "nbformat_minor": 2
}
